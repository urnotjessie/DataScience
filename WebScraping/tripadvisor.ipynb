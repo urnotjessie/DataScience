{
 "cells": [
  {
   "cell_type": "code",
   "execution_count": 2,
   "metadata": {
    "collapsed": false
   },
   "outputs": [
    {
     "name": "stdout",
     "output_type": "stream",
     "text": [
      "Scraping Page number1\n",
      "Scraping Page number2\n",
      "Scraping Page number3\n",
      "Scraping Page number4\n",
      "Scraping Page number5\n",
      "Scraping Page number6\n",
      "Scraping Page number7\n",
      "Scraping Page number8\n",
      "Scraping Page number9\n",
      "Scraping Page number10\n",
      "Scraping Page number11\n",
      "Scraping Page number12\n",
      "Scraping Page number13\n",
      "Scraping Page number14\n"
     ]
    }
   ],
   "source": [
    "from selenium import webdriver\n",
    "from bs4 import BeautifulSoup\n",
    "from selenium.common.exceptions import NoSuchElementException\n",
    "\n",
    "import time\n",
    "import csv\n",
    "\n",
    "driver = webdriver.Chrome()\n",
    "\n",
    "#driver.get('https://www.tripadvisor.com/Restaurants-g60763-zfz10665-New_York_City_New_York.html')\n",
    "driver.get('https://www.tripadvisor.com/')\n",
    "\n",
    "#csv_file = open('tripadvisor.csv','wb')\n",
    "#writer = csv.writer(csv_file)\n",
    "#writer.writerow([''])\n",
    "\n",
    "driver.find_element_by_id('mainSearch').send_keys('vegetarian restaurant')\n",
    "time.sleep(2)\n",
    "driver.find_element_by_id('GEO_SCOPED_SEARCH_INPUT').send_keys('New York City')\n",
    "time.sleep(2)\n",
    "driver.find_element_by_id('SEARCH_BUTTON_CONTENT').click()\n",
    "time.sleep(1)\n",
    "driver.find_element_by_class_name('ui_close_x').click()\n",
    "\n",
    "#driver.find_element_by_css_selector('a[class^=\"nav next\"]').click()\n",
    "#main_window=driver.current_window_handle\n",
    "\n",
    "#driver.switch_to_window(main_window)\n",
    "\n",
    "def get_url_from_one_page(lst_elements):\n",
    "    result = []\n",
    "    for element in lst_elements:\n",
    "        result.append(element.find_element_by_tag_name('a').get_attribute('href'))\n",
    "        \n",
    "    return result\n",
    "\n",
    "index = 1\n",
    "lst_url = []\n",
    "while True:\n",
    "    try:\n",
    "        print \"Scraping Page number\"+str(index)\n",
    "        index = index+1  \n",
    "        lst = driver.find_elements_by_css_selector('div[class^=listing]')\n",
    "        lst_url.extend(get_url_from_one_page(lst))\n",
    "        driver.find_element_by_css_selector('a[class^=\"nav next\"]').click()\n",
    "        main_window=driver.current_window_handle\n",
    "        time.sleep(2)\n",
    "    except NoSuchElementException:\n",
    "        break"
   ]
  },
  {
   "cell_type": "code",
   "execution_count": 22,
   "metadata": {
    "collapsed": false
   },
   "outputs": [],
   "source": [
    "#lst1 = driver.find_elements_by_css_selector('div[class^=listing]')"
   ]
  },
  {
   "cell_type": "code",
   "execution_count": 61,
   "metadata": {
    "collapsed": false
   },
   "outputs": [],
   "source": [
    "#csv_file = open('test2.csv','wb')\n",
    "#writer = csv.writer(csv_file)\n",
    "#writer.writerow(['restaurant_name','restaurant_address','restaurant_cuisine','restaurant_ranking','restaurant_num_review'])"
   ]
  },
  {
   "cell_type": "code",
   "execution_count": 91,
   "metadata": {
    "collapsed": false
   },
   "outputs": [
    {
     "name": "stdout",
     "output_type": "stream",
     "text": [
      "10\n",
      "10\n",
      "10\n",
      "10\n"
     ]
    }
   ],
   "source": [
    "col_names = ['restaurant_name', 'restaurant_address', 'restaurant_cuisine', \n",
    "             'restaurant_ranking', 'restaurant_num_review', 'review_title', 'review_content']\n",
    "with open(\"test3.csv\", 'wb') as csvfile:\n",
    "    writer = csv.writer(csvfile)\n",
    "    writer.writerow(col_names)\n",
    "    driver = webdriver.Chrome()\n",
    "    for url in lst_url[0:4]:  \n",
    "        driver.get(url)\n",
    "        #restaurant = {} \n",
    "        restaurant_name = driver.find_element_by_xpath('//div[@class=\"heading_name_wrapper\"]//h1[@id=\"HEADING\"]')\n",
    "        restaurant_address = driver.find_element_by_class_name('format_address')\n",
    "        restaurant_cuisine = driver.find_element_by_css_selector('div[class=\"detail separator\"]')\n",
    "        restaurant_ranking = driver.find_element_by_xpath('//b[@class=\"rank_text wrap\"]/span')\n",
    "        restaurant_num_review = driver.find_element_by_class_name('more')\n",
    "\n",
    "        reviews = driver.find_elements_by_xpath('//div[@id=\"REVIEWS\"]//div[@class=\"innerBubble\"]')\n",
    "        print len(reviews)\n",
    "\n",
    "        review_dict = {}\n",
    "        review_dict['restaurant_name'] = restaurant_name.text\n",
    "        review_dict['restaurant_address'] = restaurant_address.text\n",
    "        review_dict['restaurant_cuisine'] = restaurant_cuisine.text\n",
    "        review_dict['restaurant_ranking'] = restaurant_ranking.text\n",
    "        review_dict['restaurant_num_review'] = restaurant_num_review.text\n",
    "        for review in reviews:\n",
    "            review_title = review.find_element_by_xpath('.//span[@class=\"noQuotes\"]').text\n",
    "            review_content = review.find_element_by_xpath('.//p[@class=\"partial_entry\"]').text\n",
    "            review_dict['review_title'] = review_title\n",
    "            review_dict['review_content'] = review_content\n",
    "            row_data = [review_dict[col].encode('utf-8') for col in col_names]\n",
    "            writer.writerow(row_data)\n",
    "            #writer.writerow(['FOOBAR',restaurant['restaurant_name'], all_reviews])\n",
    "driver.close()\n",
    "driver.quit()"
   ]
  },
  {
   "cell_type": "code",
   "execution_count": 43,
   "metadata": {
    "collapsed": false
   },
   "outputs": [
    {
     "name": "stdout",
     "output_type": "stream",
     "text": [
      "{'restaurant_ranking': u'#29 of 8,993 Restaurants in New York City', 'restaurant_address': u'154 E 79th St, Frnt 3R, New York City, NY 10075-0423', 'restaurant_cuisine': u'American, Vegetarian Friendly, Vegan Options, Gluten Free Options', 'restaurant_num_review': u'812 Reviews', 'restaurant_name': u'Candle 79'}\n"
     ]
    }
   ],
   "source": [
    "print restaurant"
   ]
  },
  {
   "cell_type": "code",
   "execution_count": 22,
   "metadata": {
    "collapsed": false
   },
   "outputs": [
    {
     "ename": "SyntaxError",
     "evalue": "invalid syntax (<ipython-input-22-44dbd13f6dee>, line 1)",
     "output_type": "error",
     "traceback": [
      "\u001b[0;36m  File \u001b[0;32m\"<ipython-input-22-44dbd13f6dee>\"\u001b[0;36m, line \u001b[0;32m1\u001b[0m\n\u001b[0;31m    reviews = driver.\u001b[0m\n\u001b[0m                     ^\u001b[0m\n\u001b[0;31mSyntaxError\u001b[0m\u001b[0;31m:\u001b[0m invalid syntax\n"
     ]
    }
   ],
   "source": [
    "reviews = driver.find_elements_by_id('REVIEWS')\n",
    "for review in reviews:\n",
    "    review_dict = {}\n",
    "    title = review.find_element_by_class_name('noQuotes')\n",
    "    content = review.find_element_by_class_name('partial_entry')\n",
    "    \n",
    "    \n",
    "    next_btn = browser.find_element_by_xpath('PATH_FOR_NEXT_LINK_ELEMENT')\n",
    "next_btn.click()\n",
    "html_source = browser.page_source "
   ]
  },
  {
   "cell_type": "code",
   "execution_count": null,
   "metadata": {
    "collapsed": true
   },
   "outputs": [],
   "source": []
  }
 ],
 "metadata": {
  "kernelspec": {
   "display_name": "Python 2",
   "language": "python",
   "name": "python2"
  },
  "language_info": {
   "codemirror_mode": {
    "name": "ipython",
    "version": 2
   },
   "file_extension": ".py",
   "mimetype": "text/x-python",
   "name": "python",
   "nbconvert_exporter": "python",
   "pygments_lexer": "ipython2",
   "version": "2.7.13"
  }
 },
 "nbformat": 4,
 "nbformat_minor": 2
}
